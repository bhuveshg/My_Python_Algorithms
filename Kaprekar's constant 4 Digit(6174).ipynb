{
 "cells": [
  {
   "cell_type": "markdown",
   "id": "8784ac41",
   "metadata": {},
   "source": [
    "# "
   ]
  },
  {
   "cell_type": "code",
   "execution_count": 36,
   "id": "38e7e647",
   "metadata": {},
   "outputs": [],
   "source": [
    "#Creating a function that takes a list of single digit number combines them as per decimal system and return an int. \n",
    "#It also ensures that the if the number present in list are of str type then it converts them into int.\n",
    "#a is a list of ints/strs\n",
    "def ListtoInt(a):\n",
    "    lena= len(a)\n",
    "    Ans=0\n",
    "    for i in range(lena):\n",
    "        Ans+=((a[i]))*10**(lena-1-i)\n",
    "    return Ans\n",
    "        \n",
    "    \n",
    "    "
   ]
  },
  {
   "cell_type": "code",
   "execution_count": 89,
   "id": "00edad6d",
   "metadata": {},
   "outputs": [],
   "source": [
    "#Creating a function that would take an integer and result us another integer as a part of Kaprekar's series i.e. a number which is the difference of the largest and the smallest number obtained by rearring the digits of given number\n",
    "def maxmin(n):\n",
    "    #coverting the number into list of its digit\n",
    "    L=list(str(n))\n",
    "    if len(L)==3 : L+=['0']\n",
    "    elif len(L)==2:L+=['0','0']\n",
    "    elif len(L)==1: L+=['0','0','0']\n",
    "    #Sorting the list to get the shortest number\n",
    "    S=sorted(L)\n",
    "    s= [eval(i) for i in S]\n",
    "    snum=ListtoInt(s)\n",
    "    #Sorting the list to get the largest number\n",
    "    G=sorted(L,reverse=True)\n",
    "    g= [eval(i) for i in G]\n",
    "    gnum=ListtoInt(g)\n",
    "    #G stands for greatest\n",
    "    return gnum-snum\n",
    "    "
   ]
  },
  {
   "cell_type": "code",
   "execution_count": 92,
   "id": "71594acf",
   "metadata": {},
   "outputs": [
    {
     "name": "stdout",
     "output_type": "stream",
     "text": [
      "[1000, 999, 8991, 8082, 8532, 6174]\n",
      "6\n"
     ]
    }
   ],
   "source": [
    "\n",
    "n=1000\n",
    "#input any 4 digit number with atleast 2 distinct digits\n",
    "FS=[n]\n",
    "#FS stand for fractal series as number generated in process of reaching to kaprekar's constant yields Fractal series number\n",
    "while (n!=6174):\n",
    "        n=maxmin(n)\n",
    "        FS.append(n)\n",
    "print(FS)\n",
    "print(len(FS))"
   ]
  },
  {
   "cell_type": "code",
   "execution_count": 77,
   "id": "462abff1",
   "metadata": {},
   "outputs": [],
   "source": [
    "#below function give us the number of iteration needed for a particular 4 digit number to converge to kaprekar's constant\n",
    "def niter(n):\n",
    "    if maxmin(n)==0: \n",
    "        return 0\n",
    "    else:\n",
    "        FS=[n]\n",
    "        while (n!=6174):\n",
    "            n=maxmin(n)\n",
    "            FS.append(n)\n",
    "    return len(FS)-1"
   ]
  },
  {
   "cell_type": "code",
   "execution_count": 106,
   "id": "c7703b8b",
   "metadata": {},
   "outputs": [
    {
     "name": "stdout",
     "output_type": "stream",
     "text": [
      "7\n"
     ]
    }
   ],
   "source": [
    "L=[]\n",
    "for i in range(1000,9999):\n",
    "    L.append(niter(i))\n",
    "print (max(L))\n",
    "\n"
   ]
  },
  {
   "cell_type": "markdown",
   "id": "93813266",
   "metadata": {},
   "source": [
    "# It concludes that in maximum 7 iterations any 4 digit number with atleast 2 Distinct digits can be reduced to Kaprekar's Consta"
   ]
  },
  {
   "cell_type": "code",
   "execution_count": null,
   "id": "9e2f53f5",
   "metadata": {},
   "outputs": [],
   "source": []
  }
 ],
 "metadata": {
  "kernelspec": {
   "display_name": "Python 3 (ipykernel)",
   "language": "python",
   "name": "python3"
  },
  "language_info": {
   "codemirror_mode": {
    "name": "ipython",
    "version": 3
   },
   "file_extension": ".py",
   "mimetype": "text/x-python",
   "name": "python",
   "nbconvert_exporter": "python",
   "pygments_lexer": "ipython3",
   "version": "3.11.4"
  }
 },
 "nbformat": 4,
 "nbformat_minor": 5
}
