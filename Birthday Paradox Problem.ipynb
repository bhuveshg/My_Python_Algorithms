{
 "cells": [
  {
   "cell_type": "markdown",
   "id": "a74849b4",
   "metadata": {},
   "source": [
    "# In a Group of N People find the probability that 2 People share a common birthday."
   ]
  },
  {
   "cell_type": "code",
   "execution_count": 17,
   "id": "c01b8669",
   "metadata": {},
   "outputs": [],
   "source": [
    "n=23\n",
    "#n is number of people\n",
    "# year is normal year with 365 days"
   ]
  },
  {
   "cell_type": "code",
   "execution_count": 18,
   "id": "b7eb468d",
   "metadata": {},
   "outputs": [
    {
     "name": "stdout",
     "output_type": "stream",
     "text": [
      "0.5072972343239857\n"
     ]
    }
   ],
   "source": [
    "p=1\n",
    "for i in range(n):\n",
    "    p*=(365-i)/365\n",
    "\n",
    "print (1-p)\n",
    "    \n",
    "    "
   ]
  },
  {
   "cell_type": "raw",
   "id": "3a5143de",
   "metadata": {},
   "source": [
    "The reason why the answer is counter intutive is because we in a way assume that 2 particular people in group has to share a common birthday which is not the case. Further thinking in reverse i.e. no 2 people shares a common birthday remove more darkness from our intuition."
   ]
  }
 ],
 "metadata": {
  "kernelspec": {
   "display_name": "Python 3 (ipykernel)",
   "language": "python",
   "name": "python3"
  },
  "language_info": {
   "codemirror_mode": {
    "name": "ipython",
    "version": 3
   },
   "file_extension": ".py",
   "mimetype": "text/x-python",
   "name": "python",
   "nbconvert_exporter": "python",
   "pygments_lexer": "ipython3",
   "version": "3.11.4"
  }
 },
 "nbformat": 4,
 "nbformat_minor": 5
}
