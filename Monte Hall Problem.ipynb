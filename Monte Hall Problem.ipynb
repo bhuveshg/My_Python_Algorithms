{
 "cells": [
  {
   "cell_type": "markdown",
   "id": "d164c22f",
   "metadata": {},
   "source": [
    "# Suppose we have n doors, with a car behind 1 of them. The probability of choosing the door with the car behind it on your first pick, is 1/n. Monty then opens k doors, where 0≤k≤n−2. What is the probability if contestant Switches?"
   ]
  },
  {
   "cell_type": "code",
   "execution_count": 30,
   "id": "1c270c0d",
   "metadata": {},
   "outputs": [],
   "source": [
    "n=100\n",
    "k=90\n",
    "#Contestant randomly chooses a door(say 1)"
   ]
  },
  {
   "cell_type": "code",
   "execution_count": 31,
   "id": "d230d6df",
   "metadata": {},
   "outputs": [],
   "source": [
    "pi=1/n\n",
    "if k<=n-2:\n",
    "    pf=(1-1/n)/(n-k-1)\n",
    "else:\n",
    "    print(\"Incorrect value of k\")"
   ]
  },
  {
   "cell_type": "code",
   "execution_count": 32,
   "id": "0f11e4cd",
   "metadata": {},
   "outputs": [
    {
     "name": "stdout",
     "output_type": "stream",
     "text": [
      "0.01\n",
      "0.11\n",
      "0.1\n"
     ]
    }
   ],
   "source": [
    "print(pi)\n",
    "print(pf)\n",
    "print(pf-pi)"
   ]
  },
  {
   "cell_type": "raw",
   "id": "179e482e",
   "metadata": {},
   "source": [
    "Here the key reasoning is event of choosing door by candidate is random event so probability=1/n but when he is asked to switch then prior to that action performed by Host of opening the door is not random, it is indeed an informed one as the host will never open the door that has car and further the probability of choosing the door to open depends on the initial choice of contestant. Because of these 2 reasons we can't say that the 2 door left has 50-50% chance of winning as it can be only said in case of random selection. \n",
    "Further the reason for increase in probability of getting car in remaining doors can be credited to the fact that doors has passed the informed elimination performed by Host and thus must carries a greater chance for having car compared with the door original choosen by candidate which will never be touched by host.We can say that door 2 in intelligently saved by host thus has a higher chance.\n",
    "The reason why the probability of winning won't change if the candidates doesn't switches is because to change its probability some action has to be performed by host on it but we know that host will never ever touch the choosen gate.\n",
    "\n",
    "In the end the key is random selection v/s intelligent/informed selection. We should be able to distinguish between the two."
   ]
  },
  {
   "cell_type": "code",
   "execution_count": null,
   "id": "7be267b7",
   "metadata": {},
   "outputs": [],
   "source": []
  },
  {
   "cell_type": "code",
   "execution_count": null,
   "id": "4cae64ce",
   "metadata": {},
   "outputs": [],
   "source": []
  }
 ],
 "metadata": {
  "kernelspec": {
   "display_name": "Python 3 (ipykernel)",
   "language": "python",
   "name": "python3"
  },
  "language_info": {
   "codemirror_mode": {
    "name": "ipython",
    "version": 3
   },
   "file_extension": ".py",
   "mimetype": "text/x-python",
   "name": "python",
   "nbconvert_exporter": "python",
   "pygments_lexer": "ipython3",
   "version": "3.11.4"
  }
 },
 "nbformat": 4,
 "nbformat_minor": 5
}
